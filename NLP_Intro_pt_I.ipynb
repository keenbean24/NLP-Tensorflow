{
  "nbformat": 4,
  "nbformat_minor": 0,
  "metadata": {
    "colab": {
      "name": "NLP Intro pt I.ipynb",
      "provenance": [],
      "collapsed_sections": [],
      "authorship_tag": "ABX9TyMDwepBINJBAovWqF2+TwQ9",
      "include_colab_link": true
    },
    "kernelspec": {
      "name": "python3",
      "display_name": "Python 3"
    }
  },
  "cells": [
    {
      "cell_type": "markdown",
      "metadata": {
        "id": "view-in-github",
        "colab_type": "text"
      },
      "source": [
        "<a href=\"https://colab.research.google.com/github/keenbean24/NLP-Tensorflow/blob/master/NLP_Intro_pt_I.ipynb\" target=\"_parent\"><img src=\"https://colab.research.google.com/assets/colab-badge.svg\" alt=\"Open In Colab\"/></a>"
      ]
    },
    {
      "cell_type": "code",
      "metadata": {
        "id": "tYr_AWnL5syS",
        "colab_type": "code",
        "colab": {
          "base_uri": "https://localhost:8080/",
          "height": 68
        },
        "outputId": "7b42f69f-bd4a-4bfc-f270-94abf49309cb"
      },
      "source": [
        "import tensorflow\n",
        "from tensorflow.keras.preprocessing.text import Tokenizer\n",
        "from tensorflow.keras.preprocessing.sequence import pad_sequences\n",
        "\n",
        "sentence=['I love my dog',\n",
        "          'You love my dog']\n",
        "\n",
        "tokenizer=Tokenizer(num_words=100, oov_token=\"<OOV>\")  #Creates a tokenizer of 100 unique/common words limit \n",
        "                                                        #OOV is out of vocabulary- replace oov words with th token value\n",
        "tokenizer.fit_on_texts(sentence)    \n",
        "\n",
        "word_index=tokenizer.word_index    #creates a word dictionary\n",
        "print(word_index)\n",
        "\n",
        "sequence=tokenizer.texts_to_sequences(sentence)  #creates a sequence based on word_dictionary\n",
        "print(sequence) \n",
        "\n",
        "test_sentences=['I really love my dog',\n",
        "                'my dog loves my manatee']\n",
        "\n",
        "sequence1=tokenizer.texts_to_sequences(test_sentences)  #sequence on test sentences\n",
        "print(sequence1) \n",
        "\n",
        "paddedSequence=pad_sequences(sequence1,padding=\"post\",maxlen=5,truncating='post')  #padding => determines the padding to be added ie before or after\n",
        "                                                                                   #truncating => the lost data due to max_len would be removed from the end\n"
      ],
      "execution_count": 6,
      "outputs": [
        {
          "output_type": "stream",
          "text": [
            "{'<OOV>': 1, 'love': 2, 'my': 3, 'dog': 4, 'i': 5, 'you': 6}\n",
            "[[5, 2, 3, 4], [6, 2, 3, 4]]\n",
            "[[5, 1, 2, 3, 4], [3, 4, 1, 3, 1]]\n"
          ],
          "name": "stdout"
        }
      ]
    },
    {
      "cell_type": "markdown",
      "metadata": {
        "id": "QyZlvdym66ZO",
        "colab_type": "text"
      },
      "source": [
        "# New Section"
      ]
    }
  ]
}